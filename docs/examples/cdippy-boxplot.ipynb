{
 "cells": [
  {
   "attachments": {},
   "cell_type": "markdown",
   "metadata": {},
   "source": [
    "# CDIPpy Example - Boxplot of Monthly-Averaged Significant Wave Height\n",
    "The following example runs an application of the [CDIPpy](https://cdipsw.github.io/CDIPpy/quickstart/) python library to create plot of monthly-averaged boxes of Significant Wave Height (Hs) data across one year.\n",
    "* See http://cdip.ucsd.edu/themes/cdip?pb=1&bl=cdip?pb=1&d2=p70&u3=s:093:st:1:v:hs_box_plot:dt:2011 for example Hs Boxplot.\n",
    "\n",
    "Steps:\n",
    "1) read in CDIP station metadata,\n",
    "2) access wave data for time period of interest,\n",
    "3) Compute metrics\n",
    "4) plot boxplot,\n"
   ]
  },
  {
   "cell_type": "markdown",
   "metadata": {},
   "source": [
    "## Import Libraries\n",
    "\n",
    "Start by importing the necessary python packages and CDIPPY module"
   ]
  },
  {
   "cell_type": "code",
   "execution_count": 3,
   "metadata": {},
   "outputs": [],
   "source": [
    "import matplotlib.pyplot as plt\n",
    "import numpy as np\n",
    "import datetime\n",
    "import time\n",
    "import calendar\n",
    "import pandas as pd\n",
    "\n",
    "# CDIP imports\n",
    "import cdippy\n",
    "from cdippy.stndata import StnData"
   ]
  },
  {
   "cell_type": "markdown",
   "metadata": {},
   "source": [
    "## Initialize CDIPpy input parameters\n",
    "* Supply CDIP station id\n",
    "* Start date (YYYYMMDDHH)\n",
    "* End date\n",
    "* Station parameters to return"
   ]
  },
  {
   "cell_type": "code",
   "execution_count": 8,
   "metadata": {},
   "outputs": [],
   "source": [
    "##- Initialize station id, start/end date, and parameters\n",
    "stn = '067'\n",
    "sdate = '20110101'\n",
    "edate = '20111231'\n",
    "params = ['waveHs']"
   ]
  },
  {
   "attachments": {},
   "cell_type": "markdown",
   "metadata": {},
   "source": [
    "## Data Access\n",
    "\n",
    "* Use cdippy.stndata function StnData(stn)\n",
    "* Returns StnData object\n",
    "* Access station metadata about individual stations deployments"
   ]
  },
  {
   "cell_type": "markdown",
   "metadata": {},
   "source": [
    "### Grab data using 'get_series' function\n",
    "Will return a dictionary of arrays for each parameter as keys\n",
    "\n",
    "stn_data.get_series(start, end, params)\n",
    "* start: start datetime (datetime obj)\n",
    "* end: end datetime (datetime obj)\n",
    "* params: list of parameters"
   ]
  },
  {
   "cell_type": "code",
   "execution_count": 9,
   "metadata": {},
   "outputs": [
    {
     "name": "stdout",
     "output_type": "stream",
     "text": [
      "SAN NICOLAS ISLAND, CA BUOY - 067p1\n"
     ]
    }
   ],
   "source": [
    "##- Get Station Dataset object\n",
    "stn_data = cdippy.stndata.StnData(stn)\n",
    "\n",
    "##- Get metadata (i.e. information about individual deployments)\n",
    "meta = stn_data.get_stn_meta()\n",
    "stn_name = meta['metaStationName']\n",
    "print(stn_name)"
   ]
  },
  {
   "cell_type": "markdown",
   "metadata": {},
   "source": [
    "### Access data of interest\n",
    "The get_series() will return a dictionary with variable names as keys"
   ]
  },
  {
   "cell_type": "code",
   "execution_count": 10,
   "metadata": {},
   "outputs": [
    {
     "data": {
      "text/plain": [
       "dict_keys(['waveTime', 'waveHs'])"
      ]
     },
     "execution_count": 10,
     "metadata": {},
     "output_type": "execute_result"
    }
   ],
   "source": [
    "##- Use CDIPPY to convert input start/end date strings to datetime objects\n",
    "start = cdippy.utils.cdip_datetime(sdate)\n",
    "end = cdippy.utils.cdip_datetime(edate)\n",
    "\n",
    "##- Grab data using 'get_series' function\n",
    "data = stn_data.get_series(start, end, params)\n",
    "data.keys()"
   ]
  },
  {
   "cell_type": "markdown",
   "metadata": {},
   "source": [
    "## Convert waveTimes to Datetime object"
   ]
  },
  {
   "cell_type": "code",
   "execution_count": 12,
   "metadata": {},
   "outputs": [],
   "source": [
    "## Convert wave times to datetime objects (currently integers)\n",
    "##- Convert times to datetime objects\n",
    "wT = [cdippy.utils.timestamp_to_datetime(x) for x in data['waveTime']]"
   ]
  },
  {
   "cell_type": "markdown",
   "metadata": {},
   "source": [
    "## Create a Pandas Dataframe indexed by time"
   ]
  },
  {
   "cell_type": "code",
   "execution_count": 14,
   "metadata": {},
   "outputs": [
    {
     "data": {
      "text/plain": [
       "Time\n",
       "2011-01-01 00:29:07    1.73\n",
       "2011-01-01 00:59:08    1.54\n",
       "2011-01-01 01:29:08    1.56\n",
       "2011-01-01 01:59:07    1.64\n",
       "2011-01-01 02:29:08    1.53\n",
       "                       ... \n",
       "2011-12-30 21:59:07    3.06\n",
       "2011-12-30 22:29:07    3.31\n",
       "2011-12-30 22:59:07    3.44\n",
       "2011-12-30 23:29:07    3.12\n",
       "2011-12-30 23:59:07    3.11\n",
       "Name: Hs, Length: 16912, dtype: float32"
      ]
     },
     "execution_count": 14,
     "metadata": {},
     "output_type": "execute_result"
    }
   ],
   "source": [
    "## Create pandas dataframe from data\n",
    "df = pd.DataFrame({'Time': wT, 'Hs': data['waveHs'].data})\n",
    "df.set_index('Time', inplace=True)\n",
    "# Add a \"Month\" column for grouping\n",
    "df['Month'] = df.index.month\n",
    "df['Hs']"
   ]
  },
  {
   "cell_type": "markdown",
   "metadata": {},
   "source": [
    "## Group the data by month"
   ]
  },
  {
   "cell_type": "code",
   "execution_count": 31,
   "metadata": {},
   "outputs": [],
   "source": [
    "# Create a pandas data frame converting timestamps to datetime objects for totals boxplot\n",
    "df_totals = pd.DataFrame(\n",
    "    data[\"waveHs\"], index=pd.to_datetime(data[\"waveTime\"], unit=\"s\")\n",
    ")\n",
    "# Add fake data to create ticks for months without data\n",
    "dt_waveTime = pd.to_datetime(data[\"waveTime\"], unit=\"s\")\n",
    "months_with_data = np.unique(dt_waveTime.month)\n",
    "for m in range(1, 13):\n",
    "    if m not in months_with_data:\n",
    "        new_dt = datetime(year, m, 1)\n",
    "        uts = time.mktime(new_dt.timetuple())\n",
    "        data[\"waveTime\"] = np.ma.append(data[\"waveTime\"], uts)\n",
    "        data[\"waveHs\"] = np.ma.append(data[\"waveHs\"], 0.0)\n",
    "\n",
    "# Create a pandas data frame for month boxplots (with fake data)\n",
    "df_months = pd.DataFrame(data[\"waveHs\"], index=pd.to_datetime(data[\"waveTime\"], unit=\"s\"))\n",
    "\n",
    "# Group the data by month\n",
    "#grp = pd.groupby(df_months, by=[df_months.index.month])\n",
    "\n",
    "grp = df_months.groupby(by=[df_months.index.month])"
   ]
  },
  {
   "cell_type": "markdown",
   "metadata": {},
   "source": [
    "### Set figure defaults"
   ]
  },
  {
   "cell_type": "code",
   "execution_count": 32,
   "metadata": {},
   "outputs": [],
   "source": [
    "# Figure defaults\n",
    "aspect_ratio = 1.3  # x/y\n",
    "default_x_inch = 8\n",
    "default_ylim_top = 8\n",
    "\n",
    "# Colors\n",
    "flier_color = (0.35, 0.35, 1)  # R,G,B tuple\n",
    "mean_color = \"green\"\n",
    "median_color = \"red\"\n",
    "box_color = \"0.5\"  # A shade of gray\n",
    "\n",
    "# Font defaults\n",
    "default_title_font = 15\n",
    "default_subtitle_font = 12\n",
    "default_label_font = 9\n",
    "default_annotate_font = 8\n",
    "\n",
    "# Calculate the figure size based on x_inch\n",
    "x_inch = default_x_inch\n",
    "x_inch = int(x_inch)\n",
    "y_inch = x_inch / aspect_ratio\n",
    "\n",
    "# Scale the fonts\n",
    "font_scale = x_inch / default_x_inch\n",
    "\n",
    "title_font_size = round(font_scale * default_title_font, 0)\n",
    "subtitle_font_size = round(font_scale * default_subtitle_font, 0)\n",
    "label_font_size = round(font_scale * default_label_font, 0)\n",
    "annotate_font_size = round(font_scale * default_annotate_font, 0)\n",
    "\n",
    "# Second Hs scale\n",
    "def ft_to_m(Dm):\n",
    "    return 3.28084 * Dm"
   ]
  },
  {
   "cell_type": "code",
   "execution_count": 38,
   "metadata": {},
   "outputs": [
    {
     "data": {
      "text/plain": [
       "Text(0, 0.5, 'Hs (ft)')"
      ]
     },
     "execution_count": 38,
     "metadata": {},
     "output_type": "execute_result"
    },
    {
     "data": {
      "image/png": "[encoded data removed]",
      "text/plain": [
       "<Figure size 1500x1200 with 3 Axes>"
      ]
     },
     "metadata": {},
     "output_type": "display_data"
    }
   ],
   "source": [
    "# Create figure and specify figure size\n",
    "fig = plt.figure(figsize=(15,12))\n",
    "\n",
    "# This pushes the axes down so the buoy title can be prominent\n",
    "fig.subplots_adjust(top=0.87)\n",
    "\n",
    "# Use grid spec to define a 30 column grid. Total boxplot uses 4 columns\n",
    "ax = plt.subplot2grid((1, 30), (0, 0), colspan=25)\n",
    "ax2 = plt.subplot2grid((1, 30), (0, 26), colspan=4)\n",
    "\n",
    "# Create another axes for Hs in feet\n",
    "ax_feet = ax.twinx()\n",
    "ax_feet.set_ylabel(\"Hs (ft)\", fontsize=label_font_size + 1)\n",
    "\n",
    "# Get ylim top and set axes ylims\n",
    "ylim_top = max(default_ylim_top, max(data[\"waveHs\"]))  # meters\n",
    "ylim = (0, int(ylim_top))\n",
    "ax.set_ylim(ylim)\n",
    "ax_feet.set_ylim(ft_to_m(ylim[0]), ft_to_m(ylim[1]))\n",
    "ax2.set_ylim(ylim)\n",
    "\n",
    "# Create months boxplot using axes ax. Subplots=False plots on a single axes on the current figure\n",
    "(ax, bp_dict) = grp.boxplot(\n",
    "    return_type=\"both\",\n",
    "    subplots=False,\n",
    "    showmeans=True,\n",
    "    meanline=True,\n",
    "    whiskerprops={\"linestyle\": \"solid\"},\n",
    "    ax=ax,\n",
    ")\n",
    "\n",
    "# Set colors\n",
    "# Could use plt.setp(bp_dict['caps'], color=box_color)\n",
    "[\n",
    "    x.set(markeredgecolor=flier_color, markerfacecolor=flier_color)\n",
    "    for x in bp_dict[\"fliers\"]\n",
    "]\n",
    "[x.set(color=box_color) for x in bp_dict[\"caps\"]]\n",
    "[x.set(color=box_color) for x in bp_dict[\"whiskers\"]]\n",
    "[x.set(color=box_color) for x in bp_dict[\"boxes\"]]\n",
    "\n",
    "# Turn off vertical grid\n",
    "ax.xaxis.grid(False)\n",
    "\n",
    "# Turn on minor ticks for both y axes. Feels kludgey using plt.sca (set current axes)\n",
    "plt.sca(ax)\n",
    "plt.minorticks_on()\n",
    "plt.sca(ax_feet)\n",
    "plt.minorticks_on()\n",
    "\n",
    "# Turn off unwanted ticks. Could also set labelsize here\n",
    "ax.tick_params(axis=\"x\", which=\"minor\", bottom=\"off\", top=\"off\")\n",
    "ax.tick_params(axis=\"x\", which=\"major\", top=\"off\")\n",
    "ax_feet.tick_params(axis=\"x\", which=\"minor\", bottom=\"off\", top=\"off\")\n",
    "\n",
    "# Loop through months, set colors, avg, x labels and counts\n",
    "counts = grp.count()\n",
    "labels = []\n",
    "total_records = 0\n",
    "for m in range(1, 13):\n",
    "    if m in months_with_data:\n",
    "        mn = bp_dict[\"means\"][m - 1]\n",
    "        mn.set(color=mean_color)\n",
    "        x = mn.get_xdata()\n",
    "        y = mn.get_ydata()\n",
    "        xy = ((x[0] + x[1]) / 2, y[0] * (1 + 0.1 / ylim[1]))\n",
    "        # Annotate means\n",
    "        ax.annotate(\n",
    "            str(round(y[0], 2)),\n",
    "            xy=xy,\n",
    "            color=mean_color,\n",
    "            ha=\"center\",\n",
    "            fontsize=annotate_font_size,\n",
    "        )\n",
    "        # Create labels w/ record counts\n",
    "        labels.append(\" \" + calendar.month_abbr[m] + \"\\n\" + str(counts[0][m]))\n",
    "        total_records += counts[0][m]\n",
    "    else:\n",
    "        labels.append(\" \" + calendar.month_abbr[m] + \"\\n\" + \"0\")\n",
    "ax.set_xticklabels(labels, fontsize=label_font_size)\n",
    "\n",
    "# Adjust yticklabel font size\n",
    "plt.setp(ax.get_yticklabels(), fontsize=label_font_size)\n",
    "plt.setp(ax_feet.get_yticklabels(), fontsize=label_font_size)\n",
    "\n",
    "# Create subplot of totals for the year\n",
    "(ax2, bp_dict) = df_totals.boxplot(\n",
    "    return_type=\"both\",\n",
    "    showmeans=True,\n",
    "    meanline=True,\n",
    "    whiskerprops={\"linestyle\": \"solid\"},\n",
    "    ax=ax2,\n",
    ")\n",
    "\n",
    "# Set colors\n",
    "bp_dict[\"means\"][-1].set(color=mean_color)\n",
    "[\n",
    "    x.set(markeredgecolor=flier_color, markerfacecolor=flier_color)\n",
    "    for x in bp_dict[\"fliers\"]\n",
    "]\n",
    "[x.set(color=box_color) for x in bp_dict[\"caps\"]]\n",
    "[x.set(color=box_color) for x in bp_dict[\"whiskers\"]]\n",
    "[x.set(color=box_color) for x in bp_dict[\"boxes\"]]\n",
    "\n",
    "# Turn off the axis\n",
    "plt.sca(ax2)\n",
    "plt.axis(\"off\")\n",
    "\n",
    "\n",
    "# Get x,y coordinates for totals annotations\n",
    "x = bp_dict[\"caps\"][0].get_xdata()[1]\n",
    "cap_lower_y = bp_dict[\"caps\"][0].get_ydata()[0]\n",
    "cap_upper_y = bp_dict[\"caps\"][1].get_ydata()[0]\n",
    "whisker_lower_y = bp_dict[\"whiskers\"][0].get_ydata()[0]\n",
    "whisker_upper_y = bp_dict[\"whiskers\"][1].get_ydata()[0]\n",
    "median_y = bp_dict[\"medians\"][0].get_ydata()[0]\n",
    "mean_y = bp_dict[\"means\"][0].get_ydata()[0]\n",
    "whisker_avg = (whisker_upper_y + whisker_lower_y) / 2.0\n",
    "\n",
    "# Make the annotations\n",
    "ax2.annotate(\n",
    "    \"-1.5*L\",\n",
    "    xy=(x, cap_lower_y),\n",
    "    color=\"m\",\n",
    "    fontsize=annotate_font_size,\n",
    "     va=\"center\",\n",
    ")\n",
    "ax2.annotate(\"+1.5*L\", xy=(x, cap_upper_y), color=\"m\", fontsize=annotate_font_size)\n",
    "ax2.annotate(\n",
    "    \"25%ile\",\n",
    "    xy=(x, whisker_lower_y),\n",
    "    color=\"blue\",\n",
    "    fontsize=annotate_font_size,\n",
    "    va=\"top\",\n",
    ")\n",
    "ax2.annotate(\n",
    "    \"75%ile\", xy=(x, whisker_upper_y), color=\"blue\", fontsize=annotate_font_size\n",
    ")\n",
    "ax2.annotate(\n",
    "    str(round(median_y, 1)) + \" (median)\",\n",
    "    xy=(x + 0.2, median_y),\n",
    "    color=median_color,\n",
    "    fontsize=annotate_font_size,\n",
    ")\n",
    "ax2.annotate(\n",
    "    str(round(mean_y, 1)) + \" (mean)\",\n",
    "    xy=(x + 0.2, mean_y),\n",
    "    color=mean_color,\n",
    "    fontsize=annotate_font_size,\n",
    ")\n",
    "ax2.annotate(\n",
    "    \"L\",\n",
    "    xy=(x - 0.3, whisker_avg),\n",
    "    color=\"m\",\n",
    "    fontsize=subtitle_font_size - 1,\n",
    "    ha=\"right\",\n",
    "    va=\"center\",\n",
    ")\n",
    "ax2.annotate(\n",
    "    \"Total\" + \"\\n\" + str(total_records),\n",
    "    xy=(x, 0),\n",
    "    xytext=(x, -0.3 / ylim[1]),\n",
    "    color=\"k\",\n",
    "    fontsize=subtitle_font_size - 1,\n",
    "    ha=\"center\",\n",
    "    va=\"top\",\n",
    ")\n",
    "\n",
    "# Add the title and suptitle, adjust a little to the left to center over months boxplot axes\n",
    "plt.suptitle(stn_name, fontsize=title_font_size, transform=ax.transAxes, x=0.45)\n",
    "ax.set_title(\n",
    "    \"Significant Wave Height by month for \" + str(start.year), fontsize=subtitle_font_size\n",
    ")\n",
    "\n",
    "# Adjust ylabel font size\n",
    "ax.set_ylabel(\"Significant Wave Height, Hs (m)\", fontsize=label_font_size + 1)\n",
    "ax_feet.set_ylabel(\"Hs (ft)\", fontsize=label_font_size + 1)\n"
   ]
  },
  {
   "cell_type": "code",
   "execution_count": null,
   "metadata": {},
   "outputs": [],
   "source": []
  }
 ],
 "metadata": {
  "kernelspec": {
   "display_name": "Python 3 (ipykernel)",
   "language": "python",
   "name": "python3"
  },
  "language_info": {
   "codemirror_mode": {
    "name": "ipython",
    "version": 3
   },
   "file_extension": ".py",
   "mimetype": "text/x-python",
   "name": "python",
   "nbconvert_exporter": "python",
   "pygments_lexer": "ipython3",
   "version": "3.13.2"
  }
 },
 "nbformat": 4,
 "nbformat_minor": 4
}
